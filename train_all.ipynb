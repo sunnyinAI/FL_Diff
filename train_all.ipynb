{
 "cells": [
  {
   "cell_type": "code",
   "execution_count": 1,
   "metadata": {
    "colab": {},
    "colab_type": "code",
    "id": "pWVmtQfp8QQN"
   },
   "outputs": [],
   "source": [
    "import numpy as np\n",
    "from matplotlib import pyplot as plt\n",
    "from torchvision import datasets, transforms\n",
    "# from client import client\n",
    "import torch\n",
    "from torch import nn\n",
    "from torch import optim\n",
    "import torch.nn.functional as F\n",
    "\n",
    "# moves your model to train on your gpu if available else it uses your cpu\n",
    "device = (\"cuda\" if torch.cuda.is_available() else \"cpu\")\n",
    "# cli=client()"
   ]
  },
  {
   "cell_type": "code",
   "execution_count": 2,
   "metadata": {
    "colab": {
     "base_uri": "https://localhost:8080/",
     "height": 399,
     "referenced_widgets": [
      "7552a7df9c3b407a93ba022bf7d2e24c",
      "6c06987eee1c463eb6f10be2a11a8e1f",
      "50c0dafef6d142deb68e58066608e638",
      "57c80049d52041d7986eec9943d4f29e",
      "75ce62c2dec1403c850388e04792b77b",
      "0da0de0b295940d7beebee741b36ee2a",
      "47bb007e833947beb08e3349ff81e85a",
      "275123afb7f74df18732007c327f7a82",
      "d869542ec3a645abb03dba845a0f69ca",
      "948a455fa32e4c9689caa95a8597cffa",
      "a28dbcf626a8401ab1e5c0a7d5171bbf",
      "47756f81e1d8403db88194e62d0d0a8a",
      "a8a50a029ca94c5c8c76f294107efc69",
      "fd2d8c2cd5a046ffa1e0ae67549a8dde",
      "8f3940caca024d7faeecb6343667449b",
      "3a1d5230a5224ed599d551122b535a55",
      "5490695984a74ce29307240fa3541a2c",
      "fa2ffc4468994701bfa7cefa79d19971",
      "6b9703819d6b41a1a7e5c71ef1925066",
      "bf06a0d0fa51429cba37830d4a400220",
      "edae256e03a04053bdc7f1c14859571a",
      "608b069441974770bef1ebc5d4af0eb4",
      "286a7b59de2b4cd880fe7b8c89d2869d",
      "2c433830ef474c2bb40a1b828137b480",
      "c1ae55b282c04b51bc8dbbbaf6e48d5f",
      "6408bdea97c344ebb14d3406401bbe9e",
      "db17741f7ac742ac88d7b8455ec14e58",
      "913ae3958dae4c5b84a94b0689ad441b",
      "2feec937323b42a69c3c67484cca0aae",
      "4f7e5d9fa4d94965860a8a3da40b74f4",
      "f28460e62a39405584bf7fc66da3ccd7",
      "7aaf6e9f35324b7ab97995fee89bc700"
     ]
    },
    "colab_type": "code",
    "id": "pTX3r9DU8Y23",
    "outputId": "2a845e82-f9e1-4d36-d859-9e87bd6426fe"
   },
   "outputs": [
    {
     "name": "stdout",
     "output_type": "stream",
     "text": [
      "Downloading http://yann.lecun.com/exdb/mnist/train-images-idx3-ubyte.gz\n",
      "Downloading http://yann.lecun.com/exdb/mnist/train-images-idx3-ubyte.gz to DATA_MNIST/MNIST/raw/train-images-idx3-ubyte.gz\n"
     ]
    },
    {
     "data": {
      "application/vnd.jupyter.widget-view+json": {
       "model_id": "e3269ceb3baa406c8c0fb3753d3617cd",
       "version_major": 2,
       "version_minor": 0
      },
      "text/plain": [
       "  0%|          | 0/9912422 [00:00<?, ?it/s]"
      ]
     },
     "metadata": {},
     "output_type": "display_data"
    },
    {
     "name": "stdout",
     "output_type": "stream",
     "text": [
      "Extracting DATA_MNIST/MNIST/raw/train-images-idx3-ubyte.gz to DATA_MNIST/MNIST/raw\n",
      "\n",
      "Downloading http://yann.lecun.com/exdb/mnist/train-labels-idx1-ubyte.gz\n",
      "Downloading http://yann.lecun.com/exdb/mnist/train-labels-idx1-ubyte.gz to DATA_MNIST/MNIST/raw/train-labels-idx1-ubyte.gz\n"
     ]
    },
    {
     "data": {
      "application/vnd.jupyter.widget-view+json": {
       "model_id": "d9f00a4d4ccb49dd9514a1bf5c6c8630",
       "version_major": 2,
       "version_minor": 0
      },
      "text/plain": [
       "  0%|          | 0/28881 [00:00<?, ?it/s]"
      ]
     },
     "metadata": {},
     "output_type": "display_data"
    },
    {
     "name": "stdout",
     "output_type": "stream",
     "text": [
      "Extracting DATA_MNIST/MNIST/raw/train-labels-idx1-ubyte.gz to DATA_MNIST/MNIST/raw\n",
      "\n",
      "Downloading http://yann.lecun.com/exdb/mnist/t10k-images-idx3-ubyte.gz\n",
      "Downloading http://yann.lecun.com/exdb/mnist/t10k-images-idx3-ubyte.gz to DATA_MNIST/MNIST/raw/t10k-images-idx3-ubyte.gz\n"
     ]
    },
    {
     "data": {
      "application/vnd.jupyter.widget-view+json": {
       "model_id": "b59106132cb54d61b80ca75229bc8d9a",
       "version_major": 2,
       "version_minor": 0
      },
      "text/plain": [
       "  0%|          | 0/1648877 [00:00<?, ?it/s]"
      ]
     },
     "metadata": {},
     "output_type": "display_data"
    },
    {
     "name": "stdout",
     "output_type": "stream",
     "text": [
      "Extracting DATA_MNIST/MNIST/raw/t10k-images-idx3-ubyte.gz to DATA_MNIST/MNIST/raw\n",
      "\n",
      "Downloading http://yann.lecun.com/exdb/mnist/t10k-labels-idx1-ubyte.gz\n",
      "Downloading http://yann.lecun.com/exdb/mnist/t10k-labels-idx1-ubyte.gz to DATA_MNIST/MNIST/raw/t10k-labels-idx1-ubyte.gz\n"
     ]
    },
    {
     "data": {
      "application/vnd.jupyter.widget-view+json": {
       "model_id": "da734b4254054bcb96b8b302c1d27636",
       "version_major": 2,
       "version_minor": 0
      },
      "text/plain": [
       "  0%|          | 0/4542 [00:00<?, ?it/s]"
      ]
     },
     "metadata": {},
     "output_type": "display_data"
    },
    {
     "name": "stdout",
     "output_type": "stream",
     "text": [
      "Extracting DATA_MNIST/MNIST/raw/t10k-labels-idx1-ubyte.gz to DATA_MNIST/MNIST/raw\n",
      "\n",
      "dataset 1 labels tensor([0, 1, 2, 3, 4, 5, 6, 7, 8, 9])\n"
     ]
    }
   ],
   "source": [
    "# Define transform to normalize data\n",
    "transform = transforms.Compose([\n",
    "                                transforms.ToTensor(),\n",
    "                                transforms.Normalize((0.1307,), (0.3081,))\n",
    "                                ])\n",
    "\n",
    "\n",
    "\n",
    "# Download and load the training data\n",
    "dataset1 = datasets.MNIST('DATA_MNIST/', download=True, train=True, transform=transform)\n",
    "# dataset2 = datasets.MNIST('DATA_MNIST/', download=True, train=True, transform=transform)\n",
    "\n",
    "# d1=dataset1.targets<5\n",
    "# dataset1.data=dataset1.data[d1]\n",
    "# dataset1.targets=dataset1.targets[d1]\n",
    "# d1=dataset2.targets>=5\n",
    "# dataset2.data=dataset2.data[d1]\n",
    "# dataset2.targets=dataset2.targets[d1]\n",
    "print(\"dataset 1 labels\",torch.unique(dataset1.targets))\n",
    "# print(\"dataset 2 labels\",torch.unique(dataset2.targets))\n",
    "trainloader1 = torch.utils.data.DataLoader(dataset1, batch_size=64, shuffle=True)\n",
    "# trainloader2 = torch.utils.data.DataLoader(dataset2, batch_size=64, shuffle=True)\n",
    "\n",
    "test_set = datasets.MNIST('DATA_MNIST/', download=True, train=False, transform=transform)\n",
    "testloader = torch.utils.data.DataLoader(test_set, batch_size=64, shuffle=True)"
   ]
  },
  {
   "cell_type": "code",
   "execution_count": 3,
   "metadata": {
    "colab": {
     "base_uri": "https://localhost:8080/",
     "height": 72
    },
    "colab_type": "code",
    "id": "r7xcjccF8Zw2",
    "outputId": "b06cf750-2b74-4971-d251-5c6b3e203606"
   },
   "outputs": [
    {
     "name": "stdout",
     "output_type": "stream",
     "text": [
      "<class 'torch.Tensor'>\n",
      "torch.Size([64, 1, 28, 28])\n",
      "torch.Size([64])\n"
     ]
    }
   ],
   "source": [
    "training_data = enumerate(trainloader1)\n",
    "batch_idx, (images, labels) = next(training_data)\n",
    "print(type(images)) # Checking the datatype \n",
    "print(images.shape) # the size of the image\n",
    "print(labels.shape) # the size of the labels"
   ]
  },
  {
   "cell_type": "code",
   "execution_count": 4,
   "metadata": {
    "colab": {
     "base_uri": "https://localhost:8080/",
     "height": 549
    },
    "colab_type": "code",
    "id": "rqoyqo478aqf",
    "outputId": "23575e29-ac65-4da9-8e6a-9786bd189563"
   },
   "outputs": [
    {
     "data": {
      "image/png": "[encoded data removed]",
      "text/plain": [
       "<Figure size 640x480 with 4 Axes>"
      ]
     },
     "execution_count": 4,
     "metadata": {},
     "output_type": "execute_result"
    },
    {
     "data": {
      "image/png": "[encoded data removed]",
      "text/plain": [
       "<Figure size 640x480 with 4 Axes>"
      ]
     },
     "metadata": {},
     "output_type": "display_data"
    }
   ],
   "source": [
    "fig = plt.figure()\n",
    "for i in range(4):\n",
    "    plt.subplot(2,2,i+1)\n",
    "    plt.tight_layout()\n",
    "    plt.imshow(images[i][0], cmap='inferno')\n",
    "    plt.title(\"Ground Truth Label: {}\".format(labels[i]))\n",
    "    plt.yticks([])\n",
    "    plt.xticks([])\n",
    "fig"
   ]
  },
  {
   "cell_type": "code",
   "execution_count": 5,
   "metadata": {
    "colab": {},
    "colab_type": "code",
    "id": "qYoLjIav8beT"
   },
   "outputs": [],
   "source": [
    "class Network(nn.Module):\n",
    "\n",
    "    def __init__(self):\n",
    "        super(Network, self).__init__()\n",
    "        # Convolutional Neural Network Layer \n",
    "        self.convolutaional_neural_network_layers = nn.Sequential(\n",
    "                # Here we are defining our 2D convolutional layers\n",
    "                # We can calculate the output size of each convolutional layer using the following formular\n",
    "                # outputOfEachConvLayer = [(in_channel + 2*padding - kernel_size) / stride] + 1\n",
    "                # We have in_channels=1 because our input is a grayscale image\n",
    "                nn.Conv2d(in_channels=1, out_channels=12, kernel_size=3, padding=1, stride=1), # (N, 1, 28, 28) \n",
    "                nn.ReLU(),\n",
    "                # After the first convolutional layer the output of this layer is:\n",
    "                # [(28 + 2*1 - 3)/1] + 1 = 28. \n",
    "                nn.MaxPool2d(kernel_size=2), \n",
    "                # Since we applied maxpooling with kernel_size=2 we have to divide by 2, so we get\n",
    "                # 28 / 2 = 14\n",
    "          \n",
    "                # output of our second conv layer\n",
    "                nn.Conv2d(in_channels=12, out_channels=24, kernel_size=3, padding=1, stride=1),\n",
    "                nn.ReLU(),\n",
    "                # After the second convolutional layer the output of this layer is:\n",
    "                # [(14 + 2*1 - 3)/1] + 1 = 14. \n",
    "                nn.MaxPool2d(kernel_size=2) \n",
    "                # Since we applied maxpooling with kernel_size=2 we have to divide by 2, so we get\n",
    "                # 14 / 2 = 7\n",
    "        )\n",
    "\n",
    "        # Linear layer\n",
    "        self.linear_layers = nn.Sequential(\n",
    "                # We have the output_channel=24 of our second conv layer, and 7*7 is derived by the formular \n",
    "                # which is the output of each convolutional layer\n",
    "                nn.Linear(in_features=24*7*7, out_features=64),          \n",
    "                nn.ReLU(),\n",
    "                nn.Dropout(p=0.2), # Dropout with probability of 0.2 to avoid overfitting\n",
    "                nn.Linear(in_features=64, out_features=10) # The output is 10 which should match the size of our class\n",
    "        )\n",
    "\n",
    "    # Defining the forward pass \n",
    "    def forward(self, x):\n",
    "        x = self.convolutaional_neural_network_layers(x)\n",
    "        # After we get the output of our convolutional layer we must flatten it or rearrange the output into a vector\n",
    "        x = x.view(x.size(0), -1)\n",
    "        # Then pass it through the linear layer\n",
    "        x = self.linear_layers(x)\n",
    "        # The softmax function returns the prob likelihood of getting the input image. \n",
    "        # We will see a much graphical demonstration below\n",
    "        x = F.log_softmax(x, dim=1)\n",
    "        return x"
   ]
  },
  {
   "cell_type": "code",
   "execution_count": 6,
   "metadata": {
    "colab": {
     "base_uri": "https://localhost:8080/",
     "height": 308
    },
    "colab_type": "code",
    "id": "KCcDmne38coE",
    "outputId": "98d2e280-6c70-4225-8ff2-e9a71979db1a"
   },
   "outputs": [
    {
     "name": "stdout",
     "output_type": "stream",
     "text": [
      "Network(\n",
      "  (convolutaional_neural_network_layers): Sequential(\n",
      "    (0): Conv2d(1, 12, kernel_size=(3, 3), stride=(1, 1), padding=(1, 1))\n",
      "    (1): ReLU()\n",
      "    (2): MaxPool2d(kernel_size=2, stride=2, padding=0, dilation=1, ceil_mode=False)\n",
      "    (3): Conv2d(12, 24, kernel_size=(3, 3), stride=(1, 1), padding=(1, 1))\n",
      "    (4): ReLU()\n",
      "    (5): MaxPool2d(kernel_size=2, stride=2, padding=0, dilation=1, ceil_mode=False)\n",
      "  )\n",
      "  (linear_layers): Sequential(\n",
      "    (0): Linear(in_features=1176, out_features=64, bias=True)\n",
      "    (1): ReLU()\n",
      "    (2): Dropout(p=0.2, inplace=False)\n",
      "    (3): Linear(in_features=64, out_features=10, bias=True)\n",
      "  )\n",
      ")\n"
     ]
    }
   ],
   "source": [
    "model1 = Network()\n",
    "model1.to(device)\n",
    "print(model1)"
   ]
  },
  {
   "cell_type": "code",
   "execution_count": 7,
   "metadata": {
    "colab": {},
    "colab_type": "code",
    "id": "srdvvMUp8dxK"
   },
   "outputs": [],
   "source": [
    "optimizer1 = optim.Adam(model1.parameters(), lr=0.01)\n",
    "# optimizer2 = optim.Adam(model2.parameters(), lr=0.01)\n",
    "criterion = nn.CrossEntropyLoss()"
   ]
  },
  {
   "cell_type": "code",
   "execution_count": 8,
   "metadata": {
    "colab": {
     "base_uri": "https://localhost:8080/",
     "height": 199
    },
    "colab_type": "code",
    "id": "RNrkwJD10a7Y",
    "outputId": "5d3f7904-dca2-46fc-9ad4-cee7d54fb165"
   },
   "outputs": [
    {
     "name": "stdout",
     "output_type": "stream",
     "text": [
      "Epoch: 1/3   Training loss: 0.1856   Testing loss: 0.0734   Test accuracy: 0.9769  \n",
      "Epoch: 2/3   Training loss: 0.0964   Testing loss: 0.0715   Test accuracy: 0.9794  \n",
      "Epoch: 3/3   Training loss: 0.0919   Testing loss: 0.0589   Test accuracy: 0.9820  \n"
     ]
    }
   ],
   "source": [
    "epochs = 3 # The total number of iterations\n",
    "\n",
    "train_losses = []\n",
    "test_losses = []\n",
    "brake=False\n",
    "for epoch in range(epochs):\n",
    "    # prep model for training\n",
    "    model1.train()\n",
    "    # model2.train()\n",
    "    train_loss = 0\n",
    "    # tr2=iter(trainloader2)\n",
    "    for idx, (images1, labels1) in enumerate(trainloader1): \n",
    "        # images2,labels2=next(tr2)\n",
    "        # if labels2.shape!=labels1.shape:\n",
    "            # break\n",
    "\n",
    "        images1 = images1.to(device)\n",
    "        labels1 = labels1.to(device)\n",
    "        # images2 = images2.to(device)\n",
    "        # labels2 = labels2.to(device)\n",
    "\n",
    "        # Training pass\n",
    "        optimizer1.zero_grad()\n",
    "        # optimizer2.zero_grad()\n",
    "\n",
    "        # Forward pass\n",
    "        output1 = model1(images1)\n",
    "        loss1 = criterion(output1, labels1)\n",
    "        # output2 = model2(images2)\n",
    "        # loss2 = criterion(output2, labels2)\n",
    "        \n",
    "        #Backward pass\n",
    "        # loss2.backward()\n",
    "        # optimizer2.step()\n",
    "        loss1.backward()\n",
    "        optimizer1.step()\n",
    "        \n",
    "        ######################################################################\n",
    "        ######################### averging all weights ########################\n",
    "\n",
    "        # state1=model1.state_dict()\n",
    "        # state2=model2.state_dict()\n",
    "        # for key in model1.state_dict():\n",
    "            # state1[key]=(model1.state_dict()[key]+model2.state_dict()[key])/2.0\n",
    "        # if not cli.merge(model1):\n",
    "        #     brake=True\n",
    "        #     break\n",
    "        # model1.load_state_dict(state1)\n",
    "        # model2.load_state_dict(state1)\n",
    "        \n",
    "        ########################################################################\n",
    "        ########################################################################\n",
    "        train_loss += loss1.item()\n",
    "        # train_loss += loss2.item()\n",
    "    \n",
    "    \n",
    "    # prep model for evaluation\n",
    "    model1.eval() \n",
    "    test_loss = 0\n",
    "    accuracy = 0\n",
    "\n",
    "    # Turn off the gradients when performing validation.\n",
    "    # If we don't turn it off, we will comprise our networks weight entirely\n",
    "    with torch.no_grad():\n",
    "        for images, labels in testloader:\n",
    "\n",
    "            images = images.to(device)\n",
    "            labels = labels.to(device)\n",
    "\n",
    "            log_probabilities = model1(images)\n",
    "            test_loss += criterion(log_probabilities, labels)\n",
    "\n",
    "            probabilities = torch.exp(log_probabilities)\n",
    "            top_prob, top_class = probabilities.topk(1, dim=1)\n",
    "            predictions = top_class == labels.view(*top_class.shape)\n",
    "            accuracy += torch.mean(predictions.type(torch.FloatTensor))\n",
    "\n",
    "    train_losses.append(train_loss/len(trainloader1))\n",
    "    test_losses.append(test_loss/len(testloader))\n",
    "\n",
    "    print(\"Epoch: {}/{}  \".format(epoch+1, epochs),\n",
    "          \"Training loss: {:.4f}  \".format(train_loss/len(trainloader1)),\n",
    "          \"Testing loss: {:.4f}  \".format(test_loss/len(testloader)),\n",
    "          \"Test accuracy: {:.4f}  \".format(accuracy/len(testloader)))\n",
    "    if brake:\n",
    "        break\n",
    "# del cli"
   ]
  },
  {
   "cell_type": "code",
   "execution_count": 9,
   "metadata": {
    "colab": {
     "base_uri": "https://localhost:8080/",
     "height": 35
    },
    "colab_type": "code",
    "id": "Kuh8qSBK8geL",
    "outputId": "6c7c59cd-71df-462c-d1d7-965cedf92abf"
   },
   "outputs": [
    {
     "name": "stdout",
     "output_type": "stream",
     "text": [
      "torch.Size([1, 1, 28, 28])\n",
      "################### MODEL 1 ####################\n",
      "[1.4865877e-17 2.7281667e-11 3.4480499e-10 7.3762905e-17 1.0000000e+00\n",
      " 4.3151169e-14 3.7494910e-13 9.4325318e-13 3.7070982e-11 6.0391436e-10]\n"
     ]
    },
    {
     "data": {
      "image/png": "[encoded data removed]",
      "text/plain": [
       "<Figure size 600x800 with 2 Axes>"
      ]
     },
     "metadata": {},
     "output_type": "display_data"
    }
   ],
   "source": [
    "img = images[11]\n",
    "img = img.to(device)\n",
    "img = img.view(-1, 1, 28, 28)\n",
    "print(img.shape)\n",
    "\n",
    "# Since we want to use the already pretrained weights to make some prediction\n",
    "# we are turning off the gradients\n",
    "model1.eval()\n",
    "# model2.eval()\n",
    "print(\"################### MODEL 1 ####################\")\n",
    "with torch.no_grad():\n",
    "    logits = model1.forward(img)\n",
    "\n",
    "probabilities = F.softmax(logits, dim=1).detach().cpu().numpy().squeeze()\n",
    "\n",
    "print(probabilities)\n",
    "\n",
    "fig, (ax1, ax2) = plt.subplots(figsize=(6,8), ncols=2)\n",
    "ax1.imshow(img.view(1, 28, 28).detach().cpu().numpy().squeeze(), cmap='inferno')\n",
    "ax1.axis('off')\n",
    "ax2.barh(np.arange(10), probabilities, color='r' )\n",
    "ax2.set_aspect(0.1)\n",
    "ax2.set_yticks(np.arange(10))\n",
    "ax2.set_yticklabels(np.arange(10))\n",
    "ax2.set_title('Class Probability')\n",
    "ax2.set_xlim(0, 1.1)\n",
    "plt.show()\n",
    "\n"
   ]
  },
  {
   "cell_type": "code",
   "execution_count": null,
   "metadata": {
    "colab": {
     "base_uri": "https://localhost:8080/",
     "height": 288
    },
    "colab_type": "code",
    "id": "UdcSmsWpgvdp",
    "outputId": "30a2ad4f-1e1d-4e9f-c8fe-37439a8893bd"
   },
   "outputs": [],
   "source": []
  },
  {
   "cell_type": "code",
   "execution_count": null,
   "metadata": {},
   "outputs": [],
   "source": []
  }
 ],
 "metadata": {
  "colab": {
   "collapsed_sections": [],
   "name": "#005 PyTorch - Shallow Neural Network on MNIST Handwritten Digit Recognition in PyTorch 1.3.ipynb",
   "provenance": []
  },
  "kernelspec": {
   "display_name": "Python 3",
   "language": "python",
   "name": "python3"
  },
  "language_info": {
   "codemirror_mode": {
    "name": "ipython",
    "version": 3
   },
   "file_extension": ".py",
   "mimetype": "text/x-python",
   "name": "python",
   "nbconvert_exporter": "python",
   "pygments_lexer": "ipython3",
   "version": "3.10.7"
  },
  "widgets": {
   "application/vnd.jupyter.widget-state+json": {
    "0da0de0b295940d7beebee741b36ee2a": {
     "model_module": "@jupyter-widgets/base",
     "model_name": "LayoutModel",
     "state": {
      "_model_module": "@jupyter-widgets/base",
      "_model_module_version": "1.2.0",
      "_model_name": "LayoutModel",
      "_view_count": null,
      "_view_module": "@jupyter-widgets/base",
      "_view_module_version": "1.2.0",
      "_view_name": "LayoutView",
      "align_content": null,
      "align_items": null,
      "align_self": null,
      "border": null,
      "bottom": null,
      "display": null,
      "flex": null,
      "flex_flow": null,
      "grid_area": null,
      "grid_auto_columns": null,
      "grid_auto_flow": null,
      "grid_auto_rows": null,
      "grid_column": null,
      "grid_gap": null,
      "grid_row": null,
      "grid_template_areas": null,
      "grid_template_columns": null,
      "grid_template_rows": null,
      "height": null,
      "justify_content": null,
      "justify_items": null,
      "left": null,
      "margin": null,
      "max_height": null,
      "max_width": null,
      "min_height": null,
      "min_width": null,
      "object_fit": null,
      "object_position": null,
      "order": null,
      "overflow": null,
      "overflow_x": null,
      "overflow_y": null,
      "padding": null,
      "right": null,
      "top": null,
      "visibility": null,
      "width": null
     }
    },
    "275123afb7f74df18732007c327f7a82": {
     "model_module": "@jupyter-widgets/base",
     "model_name": "LayoutModel",
     "state": {
      "_model_module": "@jupyter-widgets/base",
      "_model_module_version": "1.2.0",
      "_model_name": "LayoutModel",
      "_view_count": null,
      "_view_module": "@jupyter-widgets/base",
      "_view_module_version": "1.2.0",
      "_view_name": "LayoutView",
      "align_content": null,
      "align_items": null,
      "align_self": null,
      "border": null,
      "bottom": null,
      "display": null,
      "flex": null,
      "flex_flow": null,
      "grid_area": null,
      "grid_auto_columns": null,
      "grid_auto_flow": null,
      "grid_auto_rows": null,
      "grid_column": null,
      "grid_gap": null,
      "grid_row": null,
      "grid_template_areas": null,
      "grid_template_columns": null,
      "grid_template_rows": null,
      "height": null,
      "justify_content": null,
      "justify_items": null,
      "left": null,
      "margin": null,
      "max_height": null,
      "max_width": null,
      "min_height": null,
      "min_width": null,
      "object_fit": null,
      "object_position": null,
      "order": null,
      "overflow": null,
      "overflow_x": null,
      "overflow_y": null,
      "padding": null,
      "right": null,
      "top": null,
      "visibility": null,
      "width": null
     }
    },
    "286a7b59de2b4cd880fe7b8c89d2869d": {
     "model_module": "@jupyter-widgets/controls",
     "model_name": "DescriptionStyleModel",
     "state": {
      "_model_module": "@jupyter-widgets/controls",
      "_model_module_version": "1.5.0",
      "_model_name": "DescriptionStyleModel",
      "_view_count": null,
      "_view_module": "@jupyter-widgets/base",
      "_view_module_version": "1.2.0",
      "_view_name": "StyleView",
      "description_width": ""
     }
    },
    "2c433830ef474c2bb40a1b828137b480": {
     "model_module": "@jupyter-widgets/base",
     "model_name": "LayoutModel",
     "state": {
      "_model_module": "@jupyter-widgets/base",
      "_model_module_version": "1.2.0",
      "_model_name": "LayoutModel",
      "_view_count": null,
      "_view_module": "@jupyter-widgets/base",
      "_view_module_version": "1.2.0",
      "_view_name": "LayoutView",
      "align_content": null,
      "align_items": null,
      "align_self": null,
      "border": null,
      "bottom": null,
      "display": null,
      "flex": null,
      "flex_flow": null,
      "grid_area": null,
      "grid_auto_columns": null,
      "grid_auto_flow": null,
      "grid_auto_rows": null,
      "grid_column": null,
      "grid_gap": null,
      "grid_row": null,
      "grid_template_areas": null,
      "grid_template_columns": null,
      "grid_template_rows": null,
      "height": null,
      "justify_content": null,
      "justify_items": null,
      "left": null,
      "margin": null,
      "max_height": null,
      "max_width": null,
      "min_height": null,
      "min_width": null,
      "object_fit": null,
      "object_position": null,
      "order": null,
      "overflow": null,
      "overflow_x": null,
      "overflow_y": null,
      "padding": null,
      "right": null,
      "top": null,
      "visibility": null,
      "width": null
     }
    },
    "2feec937323b42a69c3c67484cca0aae": {
     "model_module": "@jupyter-widgets/controls",
     "model_name": "ProgressStyleModel",
     "state": {
      "_model_module": "@jupyter-widgets/controls",
      "_model_module_version": "1.5.0",
      "_model_name": "ProgressStyleModel",
      "_view_count": null,
      "_view_module": "@jupyter-widgets/base",
      "_view_module_version": "1.2.0",
      "_view_name": "StyleView",
      "bar_color": null,
      "description_width": ""
     }
    },
    "3a1d5230a5224ed599d551122b535a55": {
     "model_module": "@jupyter-widgets/base",
     "model_name": "LayoutModel",
     "state": {
      "_model_module": "@jupyter-widgets/base",
      "_model_module_version": "1.2.0",
      "_model_name": "LayoutModel",
      "_view_count": null,
      "_view_module": "@jupyter-widgets/base",
      "_view_module_version": "1.2.0",
      "_view_name": "LayoutView",
      "align_content": null,
      "align_items": null,
      "align_self": null,
      "border": null,
      "bottom": null,
      "display": null,
      "flex": null,
      "flex_flow": null,
      "grid_area": null,
      "grid_auto_columns": null,
      "grid_auto_flow": null,
      "grid_auto_rows": null,
      "grid_column": null,
      "grid_gap": null,
      "grid_row": null,
      "grid_template_areas": null,
      "grid_template_columns": null,
      "grid_template_rows": null,
      "height": null,
      "justify_content": null,
      "justify_items": null,
      "left": null,
      "margin": null,
      "max_height": null,
      "max_width": null,
      "min_height": null,
      "min_width": null,
      "object_fit": null,
      "object_position": null,
      "order": null,
      "overflow": null,
      "overflow_x": null,
      "overflow_y": null,
      "padding": null,
      "right": null,
      "top": null,
      "visibility": null,
      "width": null
     }
    },
    "47756f81e1d8403db88194e62d0d0a8a": {
     "model_module": "@jupyter-widgets/controls",
     "model_name": "HTMLModel",
     "state": {
      "_dom_classes": [],
      "_model_module": "@jupyter-widgets/controls",
      "_model_module_version": "1.5.0",
      "_model_name": "HTMLModel",
      "_view_count": null,
      "_view_module": "@jupyter-widgets/controls",
      "_view_module_version": "1.5.0",
      "_view_name": "HTMLView",
      "description": "",
      "description_tooltip": null,
      "layout": "IPY_MODEL_3a1d5230a5224ed599d551122b535a55",
      "placeholder": "​",
      "style": "IPY_MODEL_8f3940caca024d7faeecb6343667449b",
      "value": "32768it [00:00, 143459.37it/s]"
     }
    },
    "47bb007e833947beb08e3349ff81e85a": {
     "model_module": "@jupyter-widgets/controls",
     "model_name": "DescriptionStyleModel",
     "state": {
      "_model_module": "@jupyter-widgets/controls",
      "_model_module_version": "1.5.0",
      "_model_name": "DescriptionStyleModel",
      "_view_count": null,
      "_view_module": "@jupyter-widgets/base",
      "_view_module_version": "1.2.0",
      "_view_name": "StyleView",
      "description_width": ""
     }
    },
    "4f7e5d9fa4d94965860a8a3da40b74f4": {
     "model_module": "@jupyter-widgets/base",
     "model_name": "LayoutModel",
     "state": {
      "_model_module": "@jupyter-widgets/base",
      "_model_module_version": "1.2.0",
      "_model_name": "LayoutModel",
      "_view_count": null,
      "_view_module": "@jupyter-widgets/base",
      "_view_module_version": "1.2.0",
      "_view_name": "LayoutView",
      "align_content": null,
      "align_items": null,
      "align_self": null,
      "border": null,
      "bottom": null,
      "display": null,
      "flex": null,
      "flex_flow": null,
      "grid_area": null,
      "grid_auto_columns": null,
      "grid_auto_flow": null,
      "grid_auto_rows": null,
      "grid_column": null,
      "grid_gap": null,
      "grid_row": null,
      "grid_template_areas": null,
      "grid_template_columns": null,
      "grid_template_rows": null,
      "height": null,
      "justify_content": null,
      "justify_items": null,
      "left": null,
      "margin": null,
      "max_height": null,
      "max_width": null,
      "min_height": null,
      "min_width": null,
      "object_fit": null,
      "object_position": null,
      "order": null,
      "overflow": null,
      "overflow_x": null,
      "overflow_y": null,
      "padding": null,
      "right": null,
      "top": null,
      "visibility": null,
      "width": null
     }
    },
    "50c0dafef6d142deb68e58066608e638": {
     "model_module": "@jupyter-widgets/controls",
     "model_name": "IntProgressModel",
     "state": {
      "_dom_classes": [],
      "_model_module": "@jupyter-widgets/controls",
      "_model_module_version": "1.5.0",
      "_model_name": "IntProgressModel",
      "_view_count": null,
      "_view_module": "@jupyter-widgets/controls",
      "_view_module_version": "1.5.0",
      "_view_name": "ProgressView",
      "bar_style": "success",
      "description": "",
      "description_tooltip": null,
      "layout": "IPY_MODEL_0da0de0b295940d7beebee741b36ee2a",
      "max": 1,
      "min": 0,
      "orientation": "horizontal",
      "style": "IPY_MODEL_75ce62c2dec1403c850388e04792b77b",
      "value": 1
     }
    },
    "5490695984a74ce29307240fa3541a2c": {
     "model_module": "@jupyter-widgets/controls",
     "model_name": "HBoxModel",
     "state": {
      "_dom_classes": [],
      "_model_module": "@jupyter-widgets/controls",
      "_model_module_version": "1.5.0",
      "_model_name": "HBoxModel",
      "_view_count": null,
      "_view_module": "@jupyter-widgets/controls",
      "_view_module_version": "1.5.0",
      "_view_name": "HBoxView",
      "box_style": "",
      "children": [
       "IPY_MODEL_6b9703819d6b41a1a7e5c71ef1925066",
       "IPY_MODEL_bf06a0d0fa51429cba37830d4a400220"
      ],
      "layout": "IPY_MODEL_fa2ffc4468994701bfa7cefa79d19971"
     }
    },
    "57c80049d52041d7986eec9943d4f29e": {
     "model_module": "@jupyter-widgets/controls",
     "model_name": "HTMLModel",
     "state": {
      "_dom_classes": [],
      "_model_module": "@jupyter-widgets/controls",
      "_model_module_version": "1.5.0",
      "_model_name": "HTMLModel",
      "_view_count": null,
      "_view_module": "@jupyter-widgets/controls",
      "_view_module_version": "1.5.0",
      "_view_name": "HTMLView",
      "description": "",
      "description_tooltip": null,
      "layout": "IPY_MODEL_275123afb7f74df18732007c327f7a82",
      "placeholder": "​",
      "style": "IPY_MODEL_47bb007e833947beb08e3349ff81e85a",
      "value": "9920512it [00:00, 16607798.41it/s]"
     }
    },
    "608b069441974770bef1ebc5d4af0eb4": {
     "model_module": "@jupyter-widgets/base",
     "model_name": "LayoutModel",
     "state": {
      "_model_module": "@jupyter-widgets/base",
      "_model_module_version": "1.2.0",
      "_model_name": "LayoutModel",
      "_view_count": null,
      "_view_module": "@jupyter-widgets/base",
      "_view_module_version": "1.2.0",
      "_view_name": "LayoutView",
      "align_content": null,
      "align_items": null,
      "align_self": null,
      "border": null,
      "bottom": null,
      "display": null,
      "flex": null,
      "flex_flow": null,
      "grid_area": null,
      "grid_auto_columns": null,
      "grid_auto_flow": null,
      "grid_auto_rows": null,
      "grid_column": null,
      "grid_gap": null,
      "grid_row": null,
      "grid_template_areas": null,
      "grid_template_columns": null,
      "grid_template_rows": null,
      "height": null,
      "justify_content": null,
      "justify_items": null,
      "left": null,
      "margin": null,
      "max_height": null,
      "max_width": null,
      "min_height": null,
      "min_width": null,
      "object_fit": null,
      "object_position": null,
      "order": null,
      "overflow": null,
      "overflow_x": null,
      "overflow_y": null,
      "padding": null,
      "right": null,
      "top": null,
      "visibility": null,
      "width": null
     }
    },
    "6408bdea97c344ebb14d3406401bbe9e": {
     "model_module": "@jupyter-widgets/base",
     "model_name": "LayoutModel",
     "state": {
      "_model_module": "@jupyter-widgets/base",
      "_model_module_version": "1.2.0",
      "_model_name": "LayoutModel",
      "_view_count": null,
      "_view_module": "@jupyter-widgets/base",
      "_view_module_version": "1.2.0",
      "_view_name": "LayoutView",
      "align_content": null,
      "align_items": null,
      "align_self": null,
      "border": null,
      "bottom": null,
      "display": null,
      "flex": null,
      "flex_flow": null,
      "grid_area": null,
      "grid_auto_columns": null,
      "grid_auto_flow": null,
      "grid_auto_rows": null,
      "grid_column": null,
      "grid_gap": null,
      "grid_row": null,
      "grid_template_areas": null,
      "grid_template_columns": null,
      "grid_template_rows": null,
      "height": null,
      "justify_content": null,
      "justify_items": null,
      "left": null,
      "margin": null,
      "max_height": null,
      "max_width": null,
      "min_height": null,
      "min_width": null,
      "object_fit": null,
      "object_position": null,
      "order": null,
      "overflow": null,
      "overflow_x": null,
      "overflow_y": null,
      "padding": null,
      "right": null,
      "top": null,
      "visibility": null,
      "width": null
     }
    },
    "6b9703819d6b41a1a7e5c71ef1925066": {
     "model_module": "@jupyter-widgets/controls",
     "model_name": "IntProgressModel",
     "state": {
      "_dom_classes": [],
      "_model_module": "@jupyter-widgets/controls",
      "_model_module_version": "1.5.0",
      "_model_name": "IntProgressModel",
      "_view_count": null,
      "_view_module": "@jupyter-widgets/controls",
      "_view_module_version": "1.5.0",
      "_view_name": "ProgressView",
      "bar_style": "success",
      "description": "",
      "description_tooltip": null,
      "layout": "IPY_MODEL_608b069441974770bef1ebc5d4af0eb4",
      "max": 1,
      "min": 0,
      "orientation": "horizontal",
      "style": "IPY_MODEL_edae256e03a04053bdc7f1c14859571a",
      "value": 1
     }
    },
    "6c06987eee1c463eb6f10be2a11a8e1f": {
     "model_module": "@jupyter-widgets/base",
     "model_name": "LayoutModel",
     "state": {
      "_model_module": "@jupyter-widgets/base",
      "_model_module_version": "1.2.0",
      "_model_name": "LayoutModel",
      "_view_count": null,
      "_view_module": "@jupyter-widgets/base",
      "_view_module_version": "1.2.0",
      "_view_name": "LayoutView",
      "align_content": null,
      "align_items": null,
      "align_self": null,
      "border": null,
      "bottom": null,
      "display": null,
      "flex": null,
      "flex_flow": null,
      "grid_area": null,
      "grid_auto_columns": null,
      "grid_auto_flow": null,
      "grid_auto_rows": null,
      "grid_column": null,
      "grid_gap": null,
      "grid_row": null,
      "grid_template_areas": null,
      "grid_template_columns": null,
      "grid_template_rows": null,
      "height": null,
      "justify_content": null,
      "justify_items": null,
      "left": null,
      "margin": null,
      "max_height": null,
      "max_width": null,
      "min_height": null,
      "min_width": null,
      "object_fit": null,
      "object_position": null,
      "order": null,
      "overflow": null,
      "overflow_x": null,
      "overflow_y": null,
      "padding": null,
      "right": null,
      "top": null,
      "visibility": null,
      "width": null
     }
    },
    "7552a7df9c3b407a93ba022bf7d2e24c": {
     "model_module": "@jupyter-widgets/controls",
     "model_name": "HBoxModel",
     "state": {
      "_dom_classes": [],
      "_model_module": "@jupyter-widgets/controls",
      "_model_module_version": "1.5.0",
      "_model_name": "HBoxModel",
      "_view_count": null,
      "_view_module": "@jupyter-widgets/controls",
      "_view_module_version": "1.5.0",
      "_view_name": "HBoxView",
      "box_style": "",
      "children": [
       "IPY_MODEL_50c0dafef6d142deb68e58066608e638",
       "IPY_MODEL_57c80049d52041d7986eec9943d4f29e"
      ],
      "layout": "IPY_MODEL_6c06987eee1c463eb6f10be2a11a8e1f"
     }
    },
    "75ce62c2dec1403c850388e04792b77b": {
     "model_module": "@jupyter-widgets/controls",
     "model_name": "ProgressStyleModel",
     "state": {
      "_model_module": "@jupyter-widgets/controls",
      "_model_module_version": "1.5.0",
      "_model_name": "ProgressStyleModel",
      "_view_count": null,
      "_view_module": "@jupyter-widgets/base",
      "_view_module_version": "1.2.0",
      "_view_name": "StyleView",
      "bar_color": null,
      "description_width": ""
     }
    },
    "7aaf6e9f35324b7ab97995fee89bc700": {
     "model_module": "@jupyter-widgets/base",
     "model_name": "LayoutModel",
     "state": {
      "_model_module": "@jupyter-widgets/base",
      "_model_module_version": "1.2.0",
      "_model_name": "LayoutModel",
      "_view_count": null,
      "_view_module": "@jupyter-widgets/base",
      "_view_module_version": "1.2.0",
      "_view_name": "LayoutView",
      "align_content": null,
      "align_items": null,
      "align_self": null,
      "border": null,
      "bottom": null,
      "display": null,
      "flex": null,
      "flex_flow": null,
      "grid_area": null,
      "grid_auto_columns": null,
      "grid_auto_flow": null,
      "grid_auto_rows": null,
      "grid_column": null,
      "grid_gap": null,
      "grid_row": null,
      "grid_template_areas": null,
      "grid_template_columns": null,
      "grid_template_rows": null,
      "height": null,
      "justify_content": null,
      "justify_items": null,
      "left": null,
      "margin": null,
      "max_height": null,
      "max_width": null,
      "min_height": null,
      "min_width": null,
      "object_fit": null,
      "object_position": null,
      "order": null,
      "overflow": null,
      "overflow_x": null,
      "overflow_y": null,
      "padding": null,
      "right": null,
      "top": null,
      "visibility": null,
      "width": null
     }
    },
    "8f3940caca024d7faeecb6343667449b": {
     "model_module": "@jupyter-widgets/controls",
     "model_name": "DescriptionStyleModel",
     "state": {
      "_model_module": "@jupyter-widgets/controls",
      "_model_module_version": "1.5.0",
      "_model_name": "DescriptionStyleModel",
      "_view_count": null,
      "_view_module": "@jupyter-widgets/base",
      "_view_module_version": "1.2.0",
      "_view_name": "StyleView",
      "description_width": ""
     }
    },
    "913ae3958dae4c5b84a94b0689ad441b": {
     "model_module": "@jupyter-widgets/controls",
     "model_name": "HTMLModel",
     "state": {
      "_dom_classes": [],
      "_model_module": "@jupyter-widgets/controls",
      "_model_module_version": "1.5.0",
      "_model_name": "HTMLModel",
      "_view_count": null,
      "_view_module": "@jupyter-widgets/controls",
      "_view_module_version": "1.5.0",
      "_view_name": "HTMLView",
      "description": "",
      "description_tooltip": null,
      "layout": "IPY_MODEL_7aaf6e9f35324b7ab97995fee89bc700",
      "placeholder": "​",
      "style": "IPY_MODEL_f28460e62a39405584bf7fc66da3ccd7",
      "value": "8192it [00:00, 45730.79it/s]"
     }
    },
    "948a455fa32e4c9689caa95a8597cffa": {
     "model_module": "@jupyter-widgets/base",
     "model_name": "LayoutModel",
     "state": {
      "_model_module": "@jupyter-widgets/base",
      "_model_module_version": "1.2.0",
      "_model_name": "LayoutModel",
      "_view_count": null,
      "_view_module": "@jupyter-widgets/base",
      "_view_module_version": "1.2.0",
      "_view_name": "LayoutView",
      "align_content": null,
      "align_items": null,
      "align_self": null,
      "border": null,
      "bottom": null,
      "display": null,
      "flex": null,
      "flex_flow": null,
      "grid_area": null,
      "grid_auto_columns": null,
      "grid_auto_flow": null,
      "grid_auto_rows": null,
      "grid_column": null,
      "grid_gap": null,
      "grid_row": null,
      "grid_template_areas": null,
      "grid_template_columns": null,
      "grid_template_rows": null,
      "height": null,
      "justify_content": null,
      "justify_items": null,
      "left": null,
      "margin": null,
      "max_height": null,
      "max_width": null,
      "min_height": null,
      "min_width": null,
      "object_fit": null,
      "object_position": null,
      "order": null,
      "overflow": null,
      "overflow_x": null,
      "overflow_y": null,
      "padding": null,
      "right": null,
      "top": null,
      "visibility": null,
      "width": null
     }
    },
    "a28dbcf626a8401ab1e5c0a7d5171bbf": {
     "model_module": "@jupyter-widgets/controls",
     "model_name": "IntProgressModel",
     "state": {
      "_dom_classes": [],
      "_model_module": "@jupyter-widgets/controls",
      "_model_module_version": "1.5.0",
      "_model_name": "IntProgressModel",
      "_view_count": null,
      "_view_module": "@jupyter-widgets/controls",
      "_view_module_version": "1.5.0",
      "_view_name": "ProgressView",
      "bar_style": "success",
      "description": "",
      "description_tooltip": null,
      "layout": "IPY_MODEL_fd2d8c2cd5a046ffa1e0ae67549a8dde",
      "max": 1,
      "min": 0,
      "orientation": "horizontal",
      "style": "IPY_MODEL_a8a50a029ca94c5c8c76f294107efc69",
      "value": 1
     }
    },
    "a8a50a029ca94c5c8c76f294107efc69": {
     "model_module": "@jupyter-widgets/controls",
     "model_name": "ProgressStyleModel",
     "state": {
      "_model_module": "@jupyter-widgets/controls",
      "_model_module_version": "1.5.0",
      "_model_name": "ProgressStyleModel",
      "_view_count": null,
      "_view_module": "@jupyter-widgets/base",
      "_view_module_version": "1.2.0",
      "_view_name": "StyleView",
      "bar_color": null,
      "description_width": ""
     }
    },
    "bf06a0d0fa51429cba37830d4a400220": {
     "model_module": "@jupyter-widgets/controls",
     "model_name": "HTMLModel",
     "state": {
      "_dom_classes": [],
      "_model_module": "@jupyter-widgets/controls",
      "_model_module_version": "1.5.0",
      "_model_name": "HTMLModel",
      "_view_count": null,
      "_view_module": "@jupyter-widgets/controls",
      "_view_module_version": "1.5.0",
      "_view_name": "HTMLView",
      "description": "",
      "description_tooltip": null,
      "layout": "IPY_MODEL_2c433830ef474c2bb40a1b828137b480",
      "placeholder": "​",
      "style": "IPY_MODEL_286a7b59de2b4cd880fe7b8c89d2869d",
      "value": "1654784it [00:00, 4082630.11it/s]"
     }
    },
    "c1ae55b282c04b51bc8dbbbaf6e48d5f": {
     "model_module": "@jupyter-widgets/controls",
     "model_name": "HBoxModel",
     "state": {
      "_dom_classes": [],
      "_model_module": "@jupyter-widgets/controls",
      "_model_module_version": "1.5.0",
      "_model_name": "HBoxModel",
      "_view_count": null,
      "_view_module": "@jupyter-widgets/controls",
      "_view_module_version": "1.5.0",
      "_view_name": "HBoxView",
      "box_style": "",
      "children": [
       "IPY_MODEL_db17741f7ac742ac88d7b8455ec14e58",
       "IPY_MODEL_913ae3958dae4c5b84a94b0689ad441b"
      ],
      "layout": "IPY_MODEL_6408bdea97c344ebb14d3406401bbe9e"
     }
    },
    "d869542ec3a645abb03dba845a0f69ca": {
     "model_module": "@jupyter-widgets/controls",
     "model_name": "HBoxModel",
     "state": {
      "_dom_classes": [],
      "_model_module": "@jupyter-widgets/controls",
      "_model_module_version": "1.5.0",
      "_model_name": "HBoxModel",
      "_view_count": null,
      "_view_module": "@jupyter-widgets/controls",
      "_view_module_version": "1.5.0",
      "_view_name": "HBoxView",
      "box_style": "",
      "children": [
       "IPY_MODEL_a28dbcf626a8401ab1e5c0a7d5171bbf",
       "IPY_MODEL_47756f81e1d8403db88194e62d0d0a8a"
      ],
      "layout": "IPY_MODEL_948a455fa32e4c9689caa95a8597cffa"
     }
    },
    "db17741f7ac742ac88d7b8455ec14e58": {
     "model_module": "@jupyter-widgets/controls",
     "model_name": "IntProgressModel",
     "state": {
      "_dom_classes": [],
      "_model_module": "@jupyter-widgets/controls",
      "_model_module_version": "1.5.0",
      "_model_name": "IntProgressModel",
      "_view_count": null,
      "_view_module": "@jupyter-widgets/controls",
      "_view_module_version": "1.5.0",
      "_view_name": "ProgressView",
      "bar_style": "success",
      "description": "",
      "description_tooltip": null,
      "layout": "IPY_MODEL_4f7e5d9fa4d94965860a8a3da40b74f4",
      "max": 1,
      "min": 0,
      "orientation": "horizontal",
      "style": "IPY_MODEL_2feec937323b42a69c3c67484cca0aae",
      "value": 1
     }
    },
    "edae256e03a04053bdc7f1c14859571a": {
     "model_module": "@jupyter-widgets/controls",
     "model_name": "ProgressStyleModel",
     "state": {
      "_model_module": "@jupyter-widgets/controls",
      "_model_module_version": "1.5.0",
      "_model_name": "ProgressStyleModel",
      "_view_count": null,
      "_view_module": "@jupyter-widgets/base",
      "_view_module_version": "1.2.0",
      "_view_name": "StyleView",
      "bar_color": null,
      "description_width": ""
     }
    },
    "f28460e62a39405584bf7fc66da3ccd7": {
     "model_module": "@jupyter-widgets/controls",
     "model_name": "DescriptionStyleModel",
     "state": {
      "_model_module": "@jupyter-widgets/controls",
      "_model_module_version": "1.5.0",
      "_model_name": "DescriptionStyleModel",
      "_view_count": null,
      "_view_module": "@jupyter-widgets/base",
      "_view_module_version": "1.2.0",
      "_view_name": "StyleView",
      "description_width": ""
     }
    },
    "fa2ffc4468994701bfa7cefa79d19971": {
     "model_module": "@jupyter-widgets/base",
     "model_name": "LayoutModel",
     "state": {
      "_model_module": "@jupyter-widgets/base",
      "_model_module_version": "1.2.0",
      "_model_name": "LayoutModel",
      "_view_count": null,
      "_view_module": "@jupyter-widgets/base",
      "_view_module_version": "1.2.0",
      "_view_name": "LayoutView",
      "align_content": null,
      "align_items": null,
      "align_self": null,
      "border": null,
      "bottom": null,
      "display": null,
      "flex": null,
      "flex_flow": null,
      "grid_area": null,
      "grid_auto_columns": null,
      "grid_auto_flow": null,
      "grid_auto_rows": null,
      "grid_column": null,
      "grid_gap": null,
      "grid_row": null,
      "grid_template_areas": null,
      "grid_template_columns": null,
      "grid_template_rows": null,
      "height": null,
      "justify_content": null,
      "justify_items": null,
      "left": null,
      "margin": null,
      "max_height": null,
      "max_width": null,
      "min_height": null,
      "min_width": null,
      "object_fit": null,
      "object_position": null,
      "order": null,
      "overflow": null,
      "overflow_x": null,
      "overflow_y": null,
      "padding": null,
      "right": null,
      "top": null,
      "visibility": null,
      "width": null
     }
    },
    "fd2d8c2cd5a046ffa1e0ae67549a8dde": {
     "model_module": "@jupyter-widgets/base",
     "model_name": "LayoutModel",
     "state": {
      "_model_module": "@jupyter-widgets/base",
      "_model_module_version": "1.2.0",
      "_model_name": "LayoutModel",
      "_view_count": null,
      "_view_module": "@jupyter-widgets/base",
      "_view_module_version": "1.2.0",
      "_view_name": "LayoutView",
      "align_content": null,
      "align_items": null,
      "align_self": null,
      "border": null,
      "bottom": null,
      "display": null,
      "flex": null,
      "flex_flow": null,
      "grid_area": null,
      "grid_auto_columns": null,
      "grid_auto_flow": null,
      "grid_auto_rows": null,
      "grid_column": null,
      "grid_gap": null,
      "grid_row": null,
      "grid_template_areas": null,
      "grid_template_columns": null,
      "grid_template_rows": null,
      "height": null,
      "justify_content": null,
      "justify_items": null,
      "left": null,
      "margin": null,
      "max_height": null,
      "max_width": null,
      "min_height": null,
      "min_width": null,
      "object_fit": null,
      "object_position": null,
      "order": null,
      "overflow": null,
      "overflow_x": null,
      "overflow_y": null,
      "padding": null,
      "right": null,
      "top": null,
      "visibility": null,
      "width": null
     }
    }
   }
  }
 },
 "nbformat": 4,
 "nbformat_minor": 1
}
